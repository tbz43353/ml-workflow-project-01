{
 "cells": [
  {
   "cell_type": "markdown",
   "metadata": {},
   "source": [
    "# Deploy and monitor a machine learning workflow for Image Classification"
   ]
  },
  {
   "cell_type": "markdown",
   "metadata": {},
   "source": [
    "## Setting up this notebook\n",
    "\n",
    "Notes about the instance size and kernel setup: this notebook has been tested on\n",
    "\n",
    "1. The `Python 3 (Data Science)` kernel\n",
    "2. The `ml.t3.medium` Sagemaker notebook instance\n",
    "\n",
    "## Data Staging\n",
    "\n",
    "We'll use a sample dataset called CIFAR to simulate the challenges Scones Unlimited are facing in Image Classification. In order to start working with CIFAR we'll need to:\n",
    "\n",
    "1. Extract the data from a hosting service\n",
    "2. Transform it into a usable shape and format\n",
    "3. Load it into a production system\n",
    "\n",
    "In other words, we're going to do some simple ETL!\n",
    "\n",
    "### 1. Extract the data from the hosting service\n",
    "\n",
    "In the cell below, define a function `extract_cifar_data` that extracts python version of the CIFAR-100 dataset. The CIFAR dataaset is open source and generously hosted by the University of Toronto at: https://www.cs.toronto.edu/~kriz/cifar-100-python.tar.gz "
   ]
  },
  {
   "cell_type": "code",
   "execution_count": 4,
   "metadata": {},
   "outputs": [],
   "source": [
    "import requests\n",
    "\n",
    "def extract_cifar_data(url, filename=\"cifar.tar.gz\"):\n",
    "    \"\"\"A function for extracting the CIFAR-100 dataset and storing it as a gzipped file\n",
    "    \n",
    "    Arguments:\n",
    "    url      -- the URL where the dataset is hosted\n",
    "    filename -- the full path where the dataset will be written\n",
    "    \n",
    "    \"\"\"\n",
    "    \n",
    "    # DONE: request the data from the data url\n",
    "    # Hint: use `requests.get` method\n",
    "    r = requests.get(url)\n",
    "    with open(filename, \"wb\") as file_context:\n",
    "        file_context.write(r.content)\n",
    "    return"
   ]
  },
  {
   "cell_type": "markdown",
   "metadata": {},
   "source": [
    "Let's test it out! Run the following cell and check whether a new file `cifar.tar.gz` is created in the file explorer."
   ]
  },
  {
   "cell_type": "code",
   "execution_count": 5,
   "metadata": {},
   "outputs": [],
   "source": [
    "extract_cifar_data(\"https://www.cs.toronto.edu/~kriz/cifar-100-python.tar.gz\")     "
   ]
  },
  {
   "cell_type": "markdown",
   "metadata": {},
   "source": [
    "### 2. Transform the data into a usable shape and format\n",
    "\n",
    "Clearly, distributing the data as a gzipped archive makes sense for the hosting service! It saves on bandwidth, storage, and it's a widely-used archive format. In fact, it's so widely used that the Python community ships a utility for working with them, `tarfile`, as part of its Standard Library. Execute the following cell to decompress your extracted dataset:"
   ]
  },
  {
   "cell_type": "code",
   "execution_count": 6,
   "metadata": {},
   "outputs": [],
   "source": [
    "import tarfile\n",
    "\n",
    "with tarfile.open(\"cifar.tar.gz\", \"r:gz\") as tar:\n",
    "    tar.extractall()"
   ]
  },
  {
   "cell_type": "markdown",
   "metadata": {},
   "source": [
    "A new folder `cifar-100-python` should be created, containing `meta`, `test`, and `train` files. These files are `pickles` and the [CIFAR homepage](https://www.cs.toronto.edu/~kriz/cifar.html) provides a simple script that can be used to load them. We've adapted the script below for you to run:"
   ]
  },
  {
   "cell_type": "code",
   "execution_count": 7,
   "metadata": {},
   "outputs": [],
   "source": [
    "import pickle\n",
    "\n",
    "with open(\"./cifar-100-python/meta\", \"rb\") as f:\n",
    "    dataset_meta = pickle.load(f, encoding='bytes')\n",
    "\n",
    "with open(\"./cifar-100-python/test\", \"rb\") as f:\n",
    "    dataset_test = pickle.load(f, encoding='bytes')\n",
    "\n",
    "with open(\"./cifar-100-python/train\", \"rb\") as f:\n",
    "    dataset_train = pickle.load(f, encoding='bytes')"
   ]
  },
  {
   "cell_type": "code",
   "execution_count": 8,
   "metadata": {},
   "outputs": [
    {
     "data": {
      "text/plain": [
       "dict_keys([b'filenames', b'batch_label', b'fine_labels', b'coarse_labels', b'data'])"
      ]
     },
     "execution_count": 8,
     "metadata": {},
     "output_type": "execute_result"
    }
   ],
   "source": [
    "# Feel free to explore the datasets\n",
    "\n",
    "dataset_train.keys()"
   ]
  },
  {
   "cell_type": "markdown",
   "metadata": {},
   "source": [
    "As documented on the homepage, `b'data'` contains rows of 3073 unsigned integers, representing three channels (red, green, and blue) for one 32x32 pixel image per row."
   ]
  },
  {
   "cell_type": "code",
   "execution_count": 9,
   "metadata": {},
   "outputs": [
    {
     "data": {
      "text/plain": [
       "3072"
      ]
     },
     "execution_count": 9,
     "metadata": {},
     "output_type": "execute_result"
    }
   ],
   "source": [
    "32*32*3"
   ]
  },
  {
   "cell_type": "markdown",
   "metadata": {},
   "source": [
    "For a simple gut-check, let's transform one of our images. Each 1024 items in a row is a channel (red, green, then blue). Each 32 items in the channel are a row in the 32x32 image. Using python, we can stack these channels into a 32x32x3 array, and save it as a PNG file:"
   ]
  },
  {
   "cell_type": "code",
   "execution_count": 10,
   "metadata": {},
   "outputs": [],
   "source": [
    "import numpy as np\n",
    "\n",
    "# Each 1024 in a row is a channel (red, green, then blue)\n",
    "row = dataset_train[b'data'][0]\n",
    "red, green, blue = row[0:1024], row[1024:2048], row[2048:]\n",
    "\n",
    "# Each 32 items in the channel are a row in the 32x32 image\n",
    "red = red.reshape(32,32)\n",
    "green = green.reshape(32,32)\n",
    "blue = blue.reshape(32,32)\n",
    "\n",
    "# Combine the channels into a 32x32x3 image!\n",
    "combined = np.dstack((red,green,blue))"
   ]
  },
  {
   "cell_type": "markdown",
   "metadata": {},
   "source": [
    "For a more concise version, consider the following:"
   ]
  },
  {
   "cell_type": "code",
   "execution_count": 11,
   "metadata": {},
   "outputs": [],
   "source": [
    "# All in one:\n",
    "test_image = np.dstack((\n",
    "    row[0:1024].reshape(32,32),\n",
    "    row[1024:2048].reshape(32,32),\n",
    "    row[2048:].reshape(32,32)\n",
    "))"
   ]
  },
  {
   "cell_type": "code",
   "execution_count": 12,
   "metadata": {},
   "outputs": [
    {
     "data": {
      "image/png": "[encoded data removed]",
      "text/plain": [
       "<Figure size 640x480 with 1 Axes>"
      ]
     },
     "metadata": {},
     "output_type": "display_data"
    }
   ],
   "source": [
    "import matplotlib.pyplot as plt\n",
    "plt.imshow(test_image);"
   ]
  },
  {
   "cell_type": "markdown",
   "metadata": {},
   "source": [
    "Looks like a cow! Let's check the label. `dataset_meta` contains label names in order, and `dataset_train` has a list of labels for each row."
   ]
  },
  {
   "cell_type": "code",
   "execution_count": 13,
   "metadata": {},
   "outputs": [
    {
     "data": {
      "text/plain": [
       "19"
      ]
     },
     "execution_count": 13,
     "metadata": {},
     "output_type": "execute_result"
    }
   ],
   "source": [
    "dataset_train[b'fine_labels'][0]"
   ]
  },
  {
   "cell_type": "markdown",
   "metadata": {},
   "source": [
    "Our image has a label of `19`, so let's see what the 19th item is in the list of label names."
   ]
  },
  {
   "cell_type": "code",
   "execution_count": 14,
   "metadata": {},
   "outputs": [
    {
     "name": "stdout",
     "output_type": "stream",
     "text": [
      "b'cattle'\n"
     ]
    }
   ],
   "source": [
    "print(dataset_meta[b'fine_label_names'][19])"
   ]
  },
  {
   "cell_type": "markdown",
   "metadata": {},
   "source": [
    "Ok! 'cattle' sounds about right. By the way, using the previous two lines we can do:"
   ]
  },
  {
   "cell_type": "code",
   "execution_count": 15,
   "metadata": {},
   "outputs": [
    {
     "name": "stdout",
     "output_type": "stream",
     "text": [
      "b'cattle'\n"
     ]
    }
   ],
   "source": [
    "n = 0\n",
    "print(dataset_meta[b'fine_label_names'][dataset_train[b'fine_labels'][n]])"
   ]
  },
  {
   "cell_type": "markdown",
   "metadata": {},
   "source": [
    "Now we know how to check labels, is there a way that we can also check file names? `dataset_train` also contains a `b'filenames'` key. Let's see what we have here:"
   ]
  },
  {
   "cell_type": "code",
   "execution_count": 16,
   "metadata": {},
   "outputs": [
    {
     "name": "stdout",
     "output_type": "stream",
     "text": [
      "b'bos_taurus_s_000507.png'\n"
     ]
    }
   ],
   "source": [
    "print(dataset_train[b'filenames'][0])"
   ]
  },
  {
   "cell_type": "markdown",
   "metadata": {},
   "source": [
    "\"Taurus\" is the name of a subspecies of cattle, so this looks like a pretty reasonable filename. To save an image we can also do:"
   ]
  },
  {
   "cell_type": "code",
   "execution_count": 17,
   "metadata": {},
   "outputs": [],
   "source": [
    "plt.imsave(\"file.png\", test_image)"
   ]
  },
  {
   "cell_type": "markdown",
   "metadata": {},
   "source": [
    "Your new PNG file should now appear in the file explorer -- go ahead and pop it open to see!\n",
    "\n",
    "Now that you know how to reshape the images, save them as files, and capture their filenames and labels, let's just capture all the bicycles and motorcycles and save them. Scones Unlimited can use a model that tells these apart to route delivery drivers automatically.\n",
    "\n",
    "In the following cell, identify the label numbers for Bicycles and Motorcycles:"
   ]
  },
  {
   "cell_type": "code",
   "execution_count": 18,
   "metadata": {},
   "outputs": [
    {
     "name": "stdout",
     "output_type": "stream",
     "text": [
      "Index 8: bicycle\n",
      "Index 48: motorcycle\n"
     ]
    }
   ],
   "source": [
    "import pandas as pd\n",
    "\n",
    "# Todo: Filter the dataset_train and dataset_meta objects to find the label numbers for Bicycle and Motorcycles\n",
    "# Print all labels and their indices to find bicycle and motorcycle\n",
    "for i, label in enumerate(dataset_meta[b'fine_label_names']):\n",
    "    if b'bicycle' in label.lower() or b'motorcycle' in label.lower():\n",
    "        print(f\"Index {i}: {label.decode('utf-8')}\")\n"
   ]
  },
  {
   "cell_type": "markdown",
   "metadata": {},
   "source": [
    "Good job! We only need objects with label 8 and 48 -- this drastically simplifies our handling of the data! Below we construct a dataframe for you, and you can safely drop the rows that don't contain observations about bicycles and motorcycles. Fill in the missing lines below to drop all other rows:"
   ]
  },
  {
   "cell_type": "code",
   "execution_count": 19,
   "metadata": {},
   "outputs": [],
   "source": [
    "#Construct the dataframe\n",
    "df_train = pd.DataFrame({\n",
    "    \"filenames\": dataset_train[b'filenames'],\n",
    "    \"labels\": dataset_train[b'fine_labels'],\n",
    "    \"row\": range(len(dataset_train[b'filenames']))\n",
    "})\n",
    "\n",
    "# Drop all rows from df_train where label is not 8 or 48\n",
    "df_train = df_train[df_train['labels'].isin([8, 48])]\n",
    "\n",
    "# Decode df_train.filenames so they are regular strings\n",
    "df_train[\"filenames\"] = df_train[\"filenames\"].apply(\n",
    "    lambda x: x.decode(\"utf-8\")\n",
    ")\n",
    "\n",
    "\n",
    "df_test = pd.DataFrame({\n",
    "    \"filenames\": dataset_test[b'filenames'],\n",
    "    \"labels\": dataset_test[b'fine_labels'],\n",
    "    \"row\": range(len(dataset_test[b'filenames']))\n",
    "})\n",
    "\n",
    "# Drop all rows from df_test where label is not 8 or 48\n",
    "df_test = df_test[df_test['labels'].isin([8, 48])]\n",
    "\n",
    "# Decode df_test.filenames so they are regular strings\n",
    "df_test[\"filenames\"] = df_test[\"filenames\"].apply(\n",
    "    lambda x: x.decode(\"utf-8\")\n",
    ")"
   ]
  },
  {
   "cell_type": "markdown",
   "metadata": {},
   "source": [
    "Now that the data is filtered for just our classes, we can save all our images."
   ]
  },
  {
   "cell_type": "code",
   "execution_count": 20,
   "metadata": {},
   "outputs": [],
   "source": [
    "!mkdir ./train\n",
    "!mkdir ./test"
   ]
  },
  {
   "cell_type": "markdown",
   "metadata": {},
   "source": [
    "In the previous sections we introduced you to several key snippets of code:\n",
    "\n",
    "1. Grabbing the image data:\n",
    "\n",
    "```python\n",
    "dataset_train[b'data'][0]\n",
    "```\n",
    "\n",
    "2. A simple idiom for stacking the image data into the right shape\n",
    "\n",
    "```python\n",
    "import numpy as np\n",
    "np.dstack((\n",
    "    row[0:1024].reshape(32,32),\n",
    "    row[1024:2048].reshape(32,32),\n",
    "    row[2048:].reshape(32,32)\n",
    "))\n",
    "```\n",
    "\n",
    "3. A simple `matplotlib` utility for saving images\n",
    "\n",
    "```python\n",
    "plt.imsave(path+row['filenames'], target)\n",
    "```\n",
    "\n",
    "Compose these together into a function that saves all the images into the `./test` and `./train` directories. Use the comments in the body of the `save_images` function below to guide your construction of the function:\n"
   ]
  },
  {
   "cell_type": "code",
   "execution_count": 21,
   "metadata": {},
   "outputs": [
    {
     "data": {
      "text/plain": [
       "1200"
      ]
     },
     "execution_count": 21,
     "metadata": {},
     "output_type": "execute_result"
    }
   ],
   "source": [
    "def save_images():\n",
    "    #Grab the image data in row-major form\n",
    "    for dataset, df, output_dir in [(dataset_train, df_train, \"./train\"), \n",
    "                                  (dataset_test, df_test, \"./test\")]:\n",
    "        for _, row in df.iterrows():\n",
    "            img = dataset[b'data'][row['row']]\n",
    "            \n",
    "            # Consolidated stacking/reshaping from earlier\n",
    "            target = np.dstack((\n",
    "                img[0:1024].reshape(32,32),\n",
    "                img[1024:2048].reshape(32,32),\n",
    "                img[2048:].reshape(32,32)\n",
    "            ))\n",
    "            \n",
    "            # Save the image\n",
    "            plt.imsave(f\"{output_dir}/{row['filenames']}\", target)\n",
    "    \n",
    "    # Return any signal data you want for debugging\n",
    "    return len(df_train) + len(df_test)\n",
    "\n",
    "## DONE: save ALL images using the save_images function\n",
    "save_images()"
   ]
  },
  {
   "cell_type": "markdown",
   "metadata": {},
   "source": [
    "### 3. Load the data\n",
    "\n",
    "Now we can load the data into S3.\n",
    "\n",
    "Using the sagemaker SDK grab the current region, execution role, and bucket."
   ]
  },
  {
   "cell_type": "code",
   "execution_count": 22,
   "metadata": {},
   "outputs": [
    {
     "name": "stdout",
     "output_type": "stream",
     "text": [
      "Default Session Bucket: sagemaker-us-east-1-282496251731\n",
      "Bucket: workflows-bucket-tonybiz\n",
      "AWS Region: us-east-1\n",
      "RoleArn: arn:aws:iam::282496251731:role/Sagemaker-ExecutionRole-TonyBiz\n"
     ]
    }
   ],
   "source": [
    "import sagemaker\n",
    "\n",
    "# Get the default bucket\n",
    "session = sagemaker.Session()\n",
    "bucket_default = session.default_bucket()\n",
    "bucket = 'workflows-bucket-tonybiz'\n",
    "print(\"Default Session Bucket: {}\".format(bucket_default))\n",
    "print(\"Bucket: {}\".format(bucket))\n",
    "\n",
    "# Get the region\n",
    "region = session.boto_region_name\n",
    "print(\"AWS Region: {}\".format(region))\n",
    "\n",
    "# Get the role\n",
    "role = sagemaker.get_execution_role()\n",
    "print(\"RoleArn: {}\".format(role))"
   ]
  },
  {
   "cell_type": "markdown",
   "metadata": {},
   "source": [
    "With this data we can easily sync your data up into S3!"
   ]
  },
  {
   "cell_type": "code",
   "execution_count": 3,
   "metadata": {},
   "outputs": [
    {
     "name": "stdout",
     "output_type": "stream",
     "text": [
      "\n",
      "The user-provided path ./train does not exist.\n",
      "\n",
      "The user-provided path ./test does not exist.\n"
     ]
    }
   ],
   "source": [
    "import os\n",
    "\n",
    "os.environ[\"DEFAULT_S3_BUCKET\"] = bucket\n",
    "!aws s3 sync ./train s3://${DEFAULT_S3_BUCKET}/train/\n",
    "!aws s3 sync ./test s3://${DEFAULT_S3_BUCKET}/test/"
   ]
  },
  {
   "cell_type": "markdown",
   "metadata": {},
   "source": [
    "And that's it! You can check the bucket and verify that the items were uploaded.\n",
    "\n",
    "## Model Training\n",
    "\n",
    "For Image Classification, Sagemaker [also expects metadata](https://docs.aws.amazon.com/sagemaker/latest/dg/image-classification.html) e.g. in the form of TSV files with labels and filepaths. We can generate these using our Pandas DataFrames from earlier:"
   ]
  },
  {
   "cell_type": "code",
   "execution_count": 23,
   "metadata": {},
   "outputs": [],
   "source": [
    "def to_metadata_file(df, prefix):\n",
    "    df[\"s3_path\"] = df[\"filenames\"]\n",
    "    df[\"labels\"] = df[\"labels\"].apply(lambda x: 0 if x==8 else 1)\n",
    "    return df[[\"row\", \"labels\", \"s3_path\"]].to_csv(\n",
    "        f\"{prefix}.lst\", sep=\"\\t\", index=False, header=False\n",
    "    )\n",
    "    \n",
    "to_metadata_file(df_train.copy(), \"train\")\n",
    "to_metadata_file(df_test.copy(), \"test\")"
   ]
  },
  {
   "cell_type": "markdown",
   "metadata": {},
   "source": [
    "We can also upload our manifest files:"
   ]
  },
  {
   "cell_type": "code",
   "execution_count": 24,
   "metadata": {},
   "outputs": [],
   "source": [
    "import boto3\n",
    "\n",
    "# Upload files\n",
    "boto3.Session().resource('s3').Bucket(\n",
    "    bucket).Object('train.lst').upload_file('./train.lst')\n",
    "boto3.Session().resource('s3').Bucket(\n",
    "    bucket).Object('test.lst').upload_file('./test.lst')"
   ]
  },
  {
   "cell_type": "markdown",
   "metadata": {},
   "source": [
    "Using the `bucket` and `region` info we can get the latest prebuilt container to run our training job, and define an output location on our s3 bucket for the model. Use the `image_uris` function from the SageMaker SDK to retrieve the latest `image-classification` image below:"
   ]
  },
  {
   "cell_type": "code",
   "execution_count": 25,
   "metadata": {},
   "outputs": [],
   "source": [
    "# Use the image_uris function to retrieve the latest 'image-classification' image \n",
    "algo_image = sagemaker.image_uris.retrieve(\n",
    "    framework=\"image-classification\",\n",
    "    region=region\n",
    ")\n",
    "s3_output_location = f\"s3://{bucket}/models/image_model\""
   ]
  },
  {
   "cell_type": "markdown",
   "metadata": {},
   "source": [
    "We're ready to create an estimator! Create an estimator `img_classifier_model` that uses one instance of `ml.p3.2xlarge`. Ensure that y ou use the output location we defined above - we'll be referring to that later!"
   ]
  },
  {
   "cell_type": "code",
   "execution_count": 26,
   "metadata": {},
   "outputs": [],
   "source": [
    "img_classifier_model=sagemaker.estimator.Estimator(\n",
    "    algo_image,  # The image URI we retrieved earlier\n",
    "    role,        # The IAM role we got earlier\n",
    "    instance_count=1,\n",
    "    instance_type='ml.p3.2xlarge',\n",
    "    output_path=s3_output_location,\n",
    "    sagemaker_session=session\n",
    ")"
   ]
  },
  {
   "cell_type": "markdown",
   "metadata": {},
   "source": [
    "We can also set a few key hyperparameters and define the inputs for our model:"
   ]
  },
  {
   "cell_type": "code",
   "execution_count": 30,
   "metadata": {},
   "outputs": [],
   "source": [
    "img_classifier_model.set_hyperparameters(\n",
    "    image_shape=\"3,32,32\",  # Format: channels,height,width\n",
    "    num_classes=2,      # Bicycle and motorcycle classes\n",
    "    num_training_samples=len(df_train)  # Number of samples in training set\n",
    ")"
   ]
  },
  {
   "cell_type": "markdown",
   "metadata": {},
   "source": [
    "The `image-classification` image uses four input channels with very specific input parameters. For convenience, we've provided them below:"
   ]
  },
  {
   "cell_type": "code",
   "execution_count": 31,
   "metadata": {},
   "outputs": [],
   "source": [
    "from sagemaker.debugger import Rule, rule_configs\n",
    "from sagemaker.session import TrainingInput\n",
    "model_inputs = {\n",
    "        \"train\": sagemaker.inputs.TrainingInput(\n",
    "            s3_data=f\"s3://{bucket}/train/\",\n",
    "            content_type=\"application/x-image\"\n",
    "        ),\n",
    "        \"validation\": sagemaker.inputs.TrainingInput(\n",
    "            s3_data=f\"s3://{bucket}/test/\",\n",
    "            content_type=\"application/x-image\"\n",
    "        ),\n",
    "        \"train_lst\": sagemaker.inputs.TrainingInput(\n",
    "            s3_data=f\"s3://{bucket}/train.lst\",\n",
    "            content_type=\"application/x-image\"\n",
    "        ),\n",
    "        \"validation_lst\": sagemaker.inputs.TrainingInput(\n",
    "            s3_data=f\"s3://{bucket}/test.lst\",\n",
    "            content_type=\"application/x-image\"\n",
    "        )\n",
    "}"
   ]
  },
  {
   "cell_type": "markdown",
   "metadata": {},
   "source": [
    "Great, now we can train the model using the model_inputs. In the cell below, call the `fit` method on our model,:"
   ]
  },
  {
   "cell_type": "code",
   "execution_count": 32,
   "metadata": {},
   "outputs": [
    {
     "name": "stderr",
     "output_type": "stream",
     "text": [
      "INFO:sagemaker:Creating training-job with name: image-classification-2024-10-28-20-05-54-362\n"
     ]
    },
    {
     "name": "stdout",
     "output_type": "stream",
     "text": [
      "2024-10-28 20:05:54 Starting - Starting the training job\n",
      "2024-10-28 20:05:54 Pending - Training job waiting for capacity......\n",
      "2024-10-28 20:06:48 Pending - Preparing the instances for training......\n",
      "2024-10-28 20:07:38 Downloading - Downloading input data...\n",
      "2024-10-28 20:08:04 Downloading - Downloading the training image..................\n",
      "2024-10-28 20:11:11 Training - Training image download completed. Training in progress..Docker entrypoint called with argument(s): train\n",
      "Running default environment configuration script\n",
      "Nvidia gpu devices, drivers and cuda toolkit versions (only available on hosts with GPU):\n",
      "Mon Oct 28 20:11:35 2024       \n",
      "+-----------------------------------------------------------------------------------------+\n",
      "| NVIDIA-SMI 550.127.05             Driver Version: 550.127.05     CUDA Version: 12.4     |\n",
      "|-----------------------------------------+------------------------+----------------------+\n",
      "| GPU  Name                 Persistence-M | Bus-Id          Disp.A | Volatile Uncorr. ECC |\n",
      "| Fan  Temp   Perf          Pwr:Usage/Cap |           Memory-Usage | GPU-Util  Compute M. |\n",
      "|                                         |                        |               MIG M. |\n",
      "|=========================================+========================+======================|\n",
      "|   0  Tesla V100-SXM2-16GB           On  |   00000000:00:1E.0 Off |                    0 |\n",
      "| N/A   30C    P0             23W /  300W |       1MiB /  16384MiB |      0%      Default |\n",
      "|                                         |                        |                  N/A |\n",
      "+-----------------------------------------+------------------------+----------------------+\n",
      "                                                                                         \n",
      "+-----------------------------------------------------------------------------------------+\n",
      "| Processes:                                                                              |\n",
      "|  GPU   GI   CI        PID   Type   Process name                              GPU Memory |\n",
      "|        ID   ID                                                               Usage      |\n",
      "|=========================================================================================|\n",
      "|  No running processes found                                                             |\n",
      "+-----------------------------------------------------------------------------------------+\n",
      "Checking for nvidia driver and cuda compatibility.\n",
      "CUDA Compatibility driver provided.\n",
      "Proceeding with compatibility check between driver, cuda-toolkit and cuda-compat.\n",
      "Detected cuda-toolkit version: 11.1.\n",
      "Detected cuda-compat version: 455.32.00.\n",
      "Detected Nvidia driver version: 550.127.05.\n",
      "Nvidia driver compatible with cuda-toolkit. Disabling cuda-compat.\n",
      "/opt/amazon/lib/python3.8/site-packages/mxnet/model.py:97: SyntaxWarning: \"is\" with a literal. Did you mean \"==\"?\n",
      "  if num_device is 1 and 'dist' not in kvstore:\n",
      "[10/28/2024 20:11:38 INFO 139671750006592] Reading default configuration from /opt/amazon/lib/python3.8/site-packages/image_classification/default-input.json: {'use_pretrained_model': 0, 'num_layers': 152, 'epochs': 30, 'learning_rate': 0.1, 'lr_scheduler_factor': 0.1, 'optimizer': 'sgd', 'momentum': 0, 'weight_decay': 0.0001, 'beta_1': 0.9, 'beta_2': 0.999, 'eps': 1e-08, 'gamma': 0.9, 'mini_batch_size': 32, 'image_shape': '3,224,224', 'precision_dtype': 'float32'}\n",
      "[10/28/2024 20:11:38 INFO 139671750006592] Merging with provided configuration from /opt/ml/input/config/hyperparameters.json: {'image_shape': '3,32,32', 'num_classes': '2', 'num_training_samples': '1000'}\n",
      "[10/28/2024 20:11:38 INFO 139671750006592] Final configuration: {'use_pretrained_model': 0, 'num_layers': 152, 'epochs': 30, 'learning_rate': 0.1, 'lr_scheduler_factor': 0.1, 'optimizer': 'sgd', 'momentum': 0, 'weight_decay': 0.0001, 'beta_1': 0.9, 'beta_2': 0.999, 'eps': 1e-08, 'gamma': 0.9, 'mini_batch_size': 32, 'image_shape': '3,32,32', 'precision_dtype': 'float32', 'num_classes': '2', 'num_training_samples': '1000'}\n",
      "[10/28/2024 20:11:38 INFO 139671750006592] Searching for .lst files in /opt/ml/input/data/train_lst.\n",
      "[10/28/2024 20:11:38 INFO 139671750006592] Creating record files for train.lst\n",
      "[10/28/2024 20:11:39 INFO 139671750006592] Done creating record files...\n",
      "[10/28/2024 20:11:39 INFO 139671750006592] Searching for .lst files in /opt/ml/input/data/validation_lst.\n",
      "[10/28/2024 20:11:39 INFO 139671750006592] Creating record files for test.lst\n",
      "[10/28/2024 20:11:39 INFO 139671750006592] Done creating record files...\n",
      "[10/28/2024 20:11:39 INFO 139671750006592] use_pretrained_model: 0\n",
      "[10/28/2024 20:11:39 INFO 139671750006592] multi_label: 0\n",
      "[10/28/2024 20:11:39 INFO 139671750006592] Performing random weight initialization\n",
      "[10/28/2024 20:11:39 INFO 139671750006592] ---- Parameters ----\n",
      "[10/28/2024 20:11:39 INFO 139671750006592] num_layers: 152\n",
      "[10/28/2024 20:11:39 INFO 139671750006592] data type: <class 'numpy.float32'>\n",
      "[10/28/2024 20:11:39 INFO 139671750006592] epochs: 30\n",
      "[10/28/2024 20:11:39 INFO 139671750006592] optimizer: sgd\n",
      "[10/28/2024 20:11:39 INFO 139671750006592] momentum: 0.9\n",
      "[10/28/2024 20:11:39 INFO 139671750006592] weight_decay: 0.0001\n",
      "[10/28/2024 20:11:39 INFO 139671750006592] learning_rate: 0.1\n",
      "[10/28/2024 20:11:39 INFO 139671750006592] num_training_samples: 1000\n",
      "[10/28/2024 20:11:39 INFO 139671750006592] mini_batch_size: 32\n",
      "[10/28/2024 20:11:39 INFO 139671750006592] image_shape: 3,32,32\n",
      "[10/28/2024 20:11:39 INFO 139671750006592] num_classes: 2\n",
      "[10/28/2024 20:11:39 INFO 139671750006592] augmentation_type: None\n",
      "[10/28/2024 20:11:39 INFO 139671750006592] kv_store: device\n",
      "[10/28/2024 20:11:39 INFO 139671750006592] checkpoint_frequency not set, will store the best model\n",
      "[10/28/2024 20:11:39 INFO 139671750006592] --------------------\n",
      "/opt/amazon/python3.8/lib/python3.8/subprocess.py:848: RuntimeWarning: line buffering (buffering=1) isn't supported in binary mode, the default buffer size will be used\n",
      "  self.stdout = io.open(c2pread, 'rb', bufsize)\n",
      "[10/28/2024 20:11:39 INFO 139671750006592] Setting number of threads: 7\n",
      "[20:11:43] /opt/brazil-pkg-cache/packages/AIAlgorithmsMXNet/AIAlgorithmsMXNet-1.4.x_ecl_Cuda_11.1.x.441.0/AL2_x86_64/generic-flavor/src/src/operator/nn/./cudnn/./cudnn_algoreg-inl.h:97: Running performance tests to find the best convolution algorithm, this can take a while... (setting env variable MXNET_CUDNN_AUTOTUNE_DEFAULT to 0 to disable)\n",
      "[10/28/2024 20:11:48 INFO 139671750006592] Epoch[0] Batch [20]#011Speed: 126.551 samples/sec#011accuracy=0.571429\n",
      "[10/28/2024 20:11:50 INFO 139671750006592] Epoch[0] Train-accuracy=0.619960\n",
      "[10/28/2024 20:11:50 INFO 139671750006592] Epoch[0] Time cost=6.644\n",
      "[10/28/2024 20:11:50 INFO 139671750006592] Epoch[0] Validation-accuracy=0.489583\n",
      "[10/28/2024 20:11:50 INFO 139671750006592] Storing the best model with validation accuracy: 0.489583\n",
      "[10/28/2024 20:11:51 INFO 139671750006592] Saved checkpoint to \"/opt/ml/model/image-classification-0001.params\"\n",
      "[10/28/2024 20:11:54 INFO 139671750006592] Epoch[1] Batch [20]#011Speed: 193.698 samples/sec#011accuracy=0.693452\n",
      "[10/28/2024 20:11:56 INFO 139671750006592] Epoch[1] Train-accuracy=0.685484\n",
      "[10/28/2024 20:11:56 INFO 139671750006592] Epoch[1] Time cost=4.898\n",
      "[10/28/2024 20:11:56 INFO 139671750006592] Epoch[1] Validation-accuracy=0.500000\n",
      "[10/28/2024 20:11:56 INFO 139671750006592] Storing the best model with validation accuracy: 0.500000\n",
      "[10/28/2024 20:11:57 INFO 139671750006592] Saved checkpoint to \"/opt/ml/model/image-classification-0002.params\"\n",
      "[10/28/2024 20:12:00 INFO 139671750006592] Epoch[2] Batch [20]#011Speed: 196.255 samples/sec#011accuracy=0.619048\n",
      "[10/28/2024 20:12:02 INFO 139671750006592] Epoch[2] Train-accuracy=0.604839\n",
      "[10/28/2024 20:12:02 INFO 139671750006592] Epoch[2] Time cost=4.855\n",
      "[10/28/2024 20:12:02 INFO 139671750006592] Epoch[2] Validation-accuracy=0.468750\n",
      "[10/28/2024 20:12:06 INFO 139671750006592] Epoch[3] Batch [20]#011Speed: 192.929 samples/sec#011accuracy=0.568452\n",
      "[10/28/2024 20:12:07 INFO 139671750006592] Epoch[3] Train-accuracy=0.583669\n",
      "[10/28/2024 20:12:07 INFO 139671750006592] Epoch[3] Time cost=4.903\n",
      "[10/28/2024 20:12:08 INFO 139671750006592] Epoch[3] Validation-accuracy=0.647321\n",
      "[10/28/2024 20:12:08 INFO 139671750006592] Storing the best model with validation accuracy: 0.647321\n",
      "[10/28/2024 20:12:09 INFO 139671750006592] Saved checkpoint to \"/opt/ml/model/image-classification-0004.params\"\n",
      "[10/28/2024 20:12:12 INFO 139671750006592] Epoch[4] Batch [20]#011Speed: 195.519 samples/sec#011accuracy=0.696429\n",
      "[10/28/2024 20:12:13 INFO 139671750006592] Epoch[4] Train-accuracy=0.692540\n",
      "[10/28/2024 20:12:13 INFO 139671750006592] Epoch[4] Time cost=4.848\n",
      "[10/28/2024 20:12:14 INFO 139671750006592] Epoch[4] Validation-accuracy=0.718750\n",
      "[10/28/2024 20:12:14 INFO 139671750006592] Storing the best model with validation accuracy: 0.718750\n",
      "[10/28/2024 20:12:15 INFO 139671750006592] Saved checkpoint to \"/opt/ml/model/image-classification-0005.params\"\n",
      "[10/28/2024 20:12:18 INFO 139671750006592] Epoch[5] Batch [20]#011Speed: 198.836 samples/sec#011accuracy=0.727679\n",
      "[10/28/2024 20:12:19 INFO 139671750006592] Epoch[5] Train-accuracy=0.717742\n",
      "[10/28/2024 20:12:19 INFO 139671750006592] Epoch[5] Time cost=4.806\n",
      "[10/28/2024 20:12:20 INFO 139671750006592] Epoch[5] Validation-accuracy=0.703125\n",
      "[10/28/2024 20:12:23 INFO 139671750006592] Epoch[6] Batch [20]#011Speed: 197.427 samples/sec#011accuracy=0.785714\n",
      "[10/28/2024 20:12:25 INFO 139671750006592] Epoch[6] Train-accuracy=0.774194\n",
      "[10/28/2024 20:12:25 INFO 139671750006592] Epoch[6] Time cost=4.836\n",
      "[10/28/2024 20:12:26 INFO 139671750006592] Epoch[6] Validation-accuracy=0.760417\n",
      "[10/28/2024 20:12:26 INFO 139671750006592] Storing the best model with validation accuracy: 0.760417\n",
      "[10/28/2024 20:12:26 INFO 139671750006592] Saved checkpoint to \"/opt/ml/model/image-classification-0007.params\"\n",
      "[10/28/2024 20:12:30 INFO 139671750006592] Epoch[7] Batch [20]#011Speed: 196.543 samples/sec#011accuracy=0.772321\n",
      "[10/28/2024 20:12:31 INFO 139671750006592] Epoch[7] Train-accuracy=0.772177\n",
      "[10/28/2024 20:12:31 INFO 139671750006592] Epoch[7] Time cost=4.851\n",
      "[10/28/2024 20:12:32 INFO 139671750006592] Epoch[7] Validation-accuracy=0.732143\n",
      "[10/28/2024 20:12:36 INFO 139671750006592] Epoch[8] Batch [20]#011Speed: 196.749 samples/sec#011accuracy=0.779762\n",
      "[10/28/2024 20:12:37 INFO 139671750006592] Epoch[8] Train-accuracy=0.780242\n",
      "[10/28/2024 20:12:37 INFO 139671750006592] Epoch[8] Time cost=4.846\n",
      "[10/28/2024 20:12:38 INFO 139671750006592] Epoch[8] Validation-accuracy=0.744792\n",
      "[10/28/2024 20:12:41 INFO 139671750006592] Epoch[9] Batch [20]#011Speed: 195.927 samples/sec#011accuracy=0.799107\n",
      "[10/28/2024 20:12:43 INFO 139671750006592] Epoch[9] Train-accuracy=0.814516\n",
      "[10/28/2024 20:12:43 INFO 139671750006592] Epoch[9] Time cost=4.847\n",
      "[10/28/2024 20:12:43 INFO 139671750006592] Epoch[9] Validation-accuracy=0.776042\n",
      "[10/28/2024 20:12:44 INFO 139671750006592] Storing the best model with validation accuracy: 0.776042\n",
      "[10/28/2024 20:12:44 INFO 139671750006592] Saved checkpoint to \"/opt/ml/model/image-classification-0010.params\"\n",
      "[10/28/2024 20:12:47 INFO 139671750006592] Epoch[10] Batch [20]#011Speed: 198.070 samples/sec#011accuracy=0.822917\n",
      "[10/28/2024 20:12:49 INFO 139671750006592] Epoch[10] Train-accuracy=0.830645\n",
      "[10/28/2024 20:12:49 INFO 139671750006592] Epoch[10] Time cost=4.808\n",
      "[10/28/2024 20:12:49 INFO 139671750006592] Epoch[10] Validation-accuracy=0.786458\n",
      "[10/28/2024 20:12:50 INFO 139671750006592] Storing the best model with validation accuracy: 0.786458\n",
      "[10/28/2024 20:12:50 INFO 139671750006592] Saved checkpoint to \"/opt/ml/model/image-classification-0011.params\"\n",
      "[10/28/2024 20:12:53 INFO 139671750006592] Epoch[11] Batch [20]#011Speed: 195.430 samples/sec#011accuracy=0.845238\n",
      "[10/28/2024 20:12:55 INFO 139671750006592] Epoch[11] Train-accuracy=0.833669\n",
      "[10/28/2024 20:12:55 INFO 139671750006592] Epoch[11] Time cost=4.859\n",
      "[10/28/2024 20:12:55 INFO 139671750006592] Epoch[11] Validation-accuracy=0.709821\n",
      "[10/28/2024 20:12:59 INFO 139671750006592] Epoch[12] Batch [20]#011Speed: 197.064 samples/sec#011accuracy=0.860119\n",
      "[10/28/2024 20:13:01 INFO 139671750006592] Epoch[12] Train-accuracy=0.852823\n",
      "[10/28/2024 20:13:01 INFO 139671750006592] Epoch[12] Time cost=4.842\n",
      "[10/28/2024 20:13:01 INFO 139671750006592] Epoch[12] Validation-accuracy=0.802083\n",
      "[10/28/2024 20:13:01 INFO 139671750006592] Storing the best model with validation accuracy: 0.802083\n",
      "[10/28/2024 20:13:02 INFO 139671750006592] Saved checkpoint to \"/opt/ml/model/image-classification-0013.params\"\n",
      "[10/28/2024 20:13:05 INFO 139671750006592] Epoch[13] Batch [20]#011Speed: 193.515 samples/sec#011accuracy=0.866071\n",
      "[10/28/2024 20:13:07 INFO 139671750006592] Epoch[13] Train-accuracy=0.866935\n",
      "[10/28/2024 20:13:07 INFO 139671750006592] Epoch[13] Time cost=4.914\n",
      "[10/28/2024 20:13:07 INFO 139671750006592] Epoch[13] Validation-accuracy=0.822917\n",
      "[10/28/2024 20:13:07 INFO 139671750006592] Storing the best model with validation accuracy: 0.822917\n",
      "[10/28/2024 20:13:08 INFO 139671750006592] Saved checkpoint to \"/opt/ml/model/image-classification-0014.params\"\n",
      "[10/28/2024 20:13:11 INFO 139671750006592] Epoch[14] Batch [20]#011Speed: 198.740 samples/sec#011accuracy=0.897321\n",
      "[10/28/2024 20:13:13 INFO 139671750006592] Epoch[14] Train-accuracy=0.889113\n",
      "[10/28/2024 20:13:13 INFO 139671750006592] Epoch[14] Time cost=4.808\n",
      "[10/28/2024 20:13:13 INFO 139671750006592] Epoch[14] Validation-accuracy=0.786458\n",
      "[10/28/2024 20:13:17 INFO 139671750006592] Epoch[15] Batch [20]#011Speed: 197.758 samples/sec#011accuracy=0.924107\n",
      "[10/28/2024 20:13:18 INFO 139671750006592] Epoch[15] Train-accuracy=0.895161\n",
      "[10/28/2024 20:13:18 INFO 139671750006592] Epoch[15] Time cost=4.825\n",
      "[10/28/2024 20:13:19 INFO 139671750006592] Epoch[15] Validation-accuracy=0.803571\n",
      "[10/28/2024 20:13:23 INFO 139671750006592] Epoch[16] Batch [20]#011Speed: 195.775 samples/sec#011accuracy=0.898810\n",
      "[10/28/2024 20:13:24 INFO 139671750006592] Epoch[16] Train-accuracy=0.901210\n",
      "[10/28/2024 20:13:24 INFO 139671750006592] Epoch[16] Time cost=4.858\n",
      "[10/28/2024 20:13:25 INFO 139671750006592] Epoch[16] Validation-accuracy=0.828125\n",
      "[10/28/2024 20:13:25 INFO 139671750006592] Storing the best model with validation accuracy: 0.828125\n",
      "[10/28/2024 20:13:25 INFO 139671750006592] Saved checkpoint to \"/opt/ml/model/image-classification-0017.params\"\n",
      "[10/28/2024 20:13:29 INFO 139671750006592] Epoch[17] Batch [20]#011Speed: 195.865 samples/sec#011accuracy=0.949405\n",
      "[10/28/2024 20:13:30 INFO 139671750006592] Epoch[17] Train-accuracy=0.944556\n",
      "[10/28/2024 20:13:30 INFO 139671750006592] Epoch[17] Time cost=4.872\n",
      "[10/28/2024 20:13:31 INFO 139671750006592] Epoch[17] Validation-accuracy=0.770833\n",
      "[10/28/2024 20:13:34 INFO 139671750006592] Epoch[18] Batch [20]#011Speed: 198.054 samples/sec#011accuracy=0.885417\n",
      "[10/28/2024 20:13:36 INFO 139671750006592] Epoch[18] Train-accuracy=0.896169\n",
      "[10/28/2024 20:13:36 INFO 139671750006592] Epoch[18] Time cost=4.832\n",
      "[10/28/2024 20:13:36 INFO 139671750006592] Epoch[18] Validation-accuracy=0.817708\n",
      "[10/28/2024 20:13:40 INFO 139671750006592] Epoch[19] Batch [20]#011Speed: 197.258 samples/sec#011accuracy=0.921131\n",
      "[10/28/2024 20:13:42 INFO 139671750006592] Epoch[19] Train-accuracy=0.912298\n",
      "[10/28/2024 20:13:42 INFO 139671750006592] Epoch[19] Time cost=4.831\n",
      "[10/28/2024 20:13:42 INFO 139671750006592] Epoch[19] Validation-accuracy=0.790179\n",
      "[10/28/2024 20:13:46 INFO 139671750006592] Epoch[20] Batch [20]#011Speed: 197.672 samples/sec#011accuracy=0.955357\n",
      "[10/28/2024 20:13:48 INFO 139671750006592] Epoch[20] Train-accuracy=0.952621\n",
      "[10/28/2024 20:13:48 INFO 139671750006592] Epoch[20] Time cost=4.831\n",
      "[10/28/2024 20:13:48 INFO 139671750006592] Epoch[20] Validation-accuracy=0.812500\n",
      "[10/28/2024 20:13:52 INFO 139671750006592] Epoch[21] Batch [20]#011Speed: 197.284 samples/sec#011accuracy=0.959821\n",
      "[10/28/2024 20:13:53 INFO 139671750006592] Epoch[21] Train-accuracy=0.959677\n",
      "[10/28/2024 20:13:53 INFO 139671750006592] Epoch[21] Time cost=4.844\n",
      "[10/28/2024 20:13:54 INFO 139671750006592] Epoch[21] Validation-accuracy=0.781250\n",
      "[10/28/2024 20:13:57 INFO 139671750006592] Epoch[22] Batch [20]#011Speed: 198.034 samples/sec#011accuracy=0.950893\n",
      "[10/28/2024 20:13:59 INFO 139671750006592] Epoch[22] Train-accuracy=0.936492\n",
      "[10/28/2024 20:13:59 INFO 139671750006592] Epoch[22] Time cost=4.821\n",
      "[10/28/2024 20:13:59 INFO 139671750006592] Epoch[22] Validation-accuracy=0.812500\n",
      "[10/28/2024 20:14:03 INFO 139671750006592] Epoch[23] Batch [20]#011Speed: 194.177 samples/sec#011accuracy=0.961310\n",
      "[10/28/2024 20:14:05 INFO 139671750006592] Epoch[23] Train-accuracy=0.952621\n",
      "[10/28/2024 20:14:05 INFO 139671750006592] Epoch[23] Time cost=4.907\n",
      "[10/28/2024 20:14:05 INFO 139671750006592] Epoch[23] Validation-accuracy=0.785714\n",
      "[10/28/2024 20:14:09 INFO 139671750006592] Epoch[24] Batch [20]#011Speed: 196.723 samples/sec#011accuracy=0.947917\n",
      "[10/28/2024 20:14:11 INFO 139671750006592] Epoch[24] Train-accuracy=0.949597\n",
      "[10/28/2024 20:14:11 INFO 139671750006592] Epoch[24] Time cost=4.861\n",
      "[10/28/2024 20:14:11 INFO 139671750006592] Epoch[24] Validation-accuracy=0.791667\n",
      "[10/28/2024 20:14:15 INFO 139671750006592] Epoch[25] Batch [20]#011Speed: 197.856 samples/sec#011accuracy=0.956845\n",
      "[10/28/2024 20:14:16 INFO 139671750006592] Epoch[25] Train-accuracy=0.959677\n",
      "[10/28/2024 20:14:16 INFO 139671750006592] Epoch[25] Time cost=4.830\n",
      "[10/28/2024 20:14:17 INFO 139671750006592] Epoch[25] Validation-accuracy=0.822917\n",
      "[10/28/2024 20:14:20 INFO 139671750006592] Epoch[26] Batch [20]#011Speed: 197.669 samples/sec#011accuracy=0.949405\n",
      "[10/28/2024 20:14:22 INFO 139671750006592] Epoch[26] Train-accuracy=0.952621\n",
      "[10/28/2024 20:14:22 INFO 139671750006592] Epoch[26] Time cost=4.824\n",
      "[10/28/2024 20:14:23 INFO 139671750006592] Epoch[26] Validation-accuracy=0.791667\n",
      "[10/28/2024 20:14:26 INFO 139671750006592] Epoch[27] Batch [20]#011Speed: 198.224 samples/sec#011accuracy=0.964286\n",
      "[10/28/2024 20:14:28 INFO 139671750006592] Epoch[27] Train-accuracy=0.963710\n",
      "[10/28/2024 20:14:28 INFO 139671750006592] Epoch[27] Time cost=4.810\n",
      "[10/28/2024 20:14:28 INFO 139671750006592] Epoch[27] Validation-accuracy=0.816964\n",
      "[10/28/2024 20:14:32 INFO 139671750006592] Epoch[28] Batch [20]#011Speed: 197.757 samples/sec#011accuracy=0.974702\n",
      "[10/28/2024 20:14:34 INFO 139671750006592] Epoch[28] Train-accuracy=0.973790\n",
      "[10/28/2024 20:14:34 INFO 139671750006592] Epoch[28] Time cost=4.813\n",
      "[10/28/2024 20:14:34 INFO 139671750006592] Epoch[28] Validation-accuracy=0.838542\n",
      "[10/28/2024 20:14:34 INFO 139671750006592] Storing the best model with validation accuracy: 0.838542\n",
      "[10/28/2024 20:14:35 INFO 139671750006592] Saved checkpoint to \"/opt/ml/model/image-classification-0029.params\"\n",
      "[10/28/2024 20:14:38 INFO 139671750006592] Epoch[29] Batch [20]#011Speed: 196.836 samples/sec#011accuracy=0.986607\n",
      "[10/28/2024 20:14:40 INFO 139671750006592] Epoch[29] Train-accuracy=0.987903\n",
      "[10/28/2024 20:14:40 INFO 139671750006592] Epoch[29] Time cost=4.846\n",
      "[10/28/2024 20:14:40 INFO 139671750006592] Epoch[29] Validation-accuracy=0.817708\n",
      "\n",
      "2024-10-28 20:15:05 Uploading - Uploading generated training model\n",
      "2024-10-28 20:15:05 Completed - Training job completed\n",
      "Training seconds: 447\n",
      "Billable seconds: 447\n"
     ]
    }
   ],
   "source": [
    "## TODO: train your model\n",
    "img_classifier_model.fit(inputs=model_inputs)"
   ]
  },
  {
   "cell_type": "markdown",
   "metadata": {},
   "source": [
    "If all goes well, you'll end up with a model topping out above `.8` validation accuracy. With only 1000 training samples in the CIFAR dataset, that's pretty good. We could definitely pursue data augmentation & gathering more samples to help us improve further, but for now let's proceed to deploy our model.\n",
    "\n",
    "### Getting ready to deploy\n",
    "\n",
    "To begin with, let's configure Model Monitor to track our deployment. We'll define a `DataCaptureConfig` below:"
   ]
  },
  {
   "cell_type": "code",
   "execution_count": 33,
   "metadata": {},
   "outputs": [],
   "source": [
    "from sagemaker.model_monitor import DataCaptureConfig\n",
    "\n",
    "data_capture_config = DataCaptureConfig(\n",
    "    enable_capture=True,  # Enable data capture\n",
    "    sampling_percentage=100,  # Capture 100% of inference requests\n",
    "    destination_s3_uri=f\"s3://{bucket}/data_capture\",\n",
    "    capture_options=[\"REQUEST\", \"RESPONSE\"],  # Capture both inputs and outputs\n",
    "    csv_content_types=[\"text/csv\"],  # Specify content types to capture\n",
    "    json_content_types=[\"application/json\"]\n",
    ")"
   ]
  },
  {
   "cell_type": "markdown",
   "metadata": {},
   "source": [
    "Note the `destination_s3_uri` parameter: At the end of the project, we can explore the `data_capture` directory in S3 to find crucial data about the inputs and outputs Model Monitor has observed on our model endpoint over time.\n",
    "\n",
    "With that done, deploy your model on a single `ml.m5.xlarge` instance with the data capture config attached:"
   ]
  },
  {
   "cell_type": "code",
   "execution_count": 34,
   "metadata": {},
   "outputs": [
    {
     "name": "stderr",
     "output_type": "stream",
     "text": [
      "INFO:sagemaker:Creating model with name: image-classification-2024-10-28-20-25-29-037\n",
      "INFO:sagemaker:Creating endpoint-config with name image-classification-2024-10-28-20-25-29-037\n",
      "INFO:sagemaker:Creating endpoint with name image-classification-2024-10-28-20-25-29-037\n"
     ]
    },
    {
     "name": "stdout",
     "output_type": "stream",
     "text": [
      "-------------!image-classification-2024-10-28-20-25-29-037\n"
     ]
    }
   ],
   "source": [
    "deployment = img_classifier_model.deploy(\n",
    "    initial_instance_count=1,  # Number of instances to deploy\n",
    "    instance_type='ml.m5.xlarge',  # Instance type as specified\n",
    "    data_capture_config=data_capture_config  # Data capture config we defined earlier\n",
    ")\n",
    "\n",
    "endpoint = deployment.endpoint_name\n",
    "print(endpoint)"
   ]
  },
  {
   "cell_type": "markdown",
   "metadata": {},
   "source": [
    "Note the endpoint name for later as well.\n",
    "\n",
    "Next, instantiate a Predictor:"
   ]
  },
  {
   "cell_type": "code",
   "execution_count": 35,
   "metadata": {},
   "outputs": [],
   "source": [
    "predictor = sagemaker.predictor.Predictor(endpoint)"
   ]
  },
  {
   "cell_type": "markdown",
   "metadata": {},
   "source": [
    "In the code snippet below we are going to prepare one of your saved images for prediction. Use the predictor to process the `payload`."
   ]
  },
  {
   "cell_type": "code",
   "execution_count": 36,
   "metadata": {},
   "outputs": [],
   "source": [
    "from sagemaker.serializers import IdentitySerializer\n",
    "import base64\n",
    "\n",
    "predictor.serializer = IdentitySerializer(\"image/png\")\n",
    "with open(\"./test/bicycle_s_001789.png\", \"rb\") as f:\n",
    "    payload = f.read()\n",
    "\n",
    "    \n",
    "inference = predictor.predict(payload)"
   ]
  },
  {
   "cell_type": "markdown",
   "metadata": {},
   "source": [
    "Your `inference` object is an array of two values, the predicted probability value for each of your classes (bicycle and motorcycle respectively.) So, for example, a value of `b'[0.91, 0.09]'` indicates the probability of being a bike is 91% and being a motorcycle is 9%."
   ]
  },
  {
   "cell_type": "code",
   "execution_count": 37,
   "metadata": {},
   "outputs": [
    {
     "name": "stdout",
     "output_type": "stream",
     "text": [
      "b'[0.9399322867393494, 0.06006772443652153]'\n"
     ]
    }
   ],
   "source": [
    "print(inference)"
   ]
  },
  {
   "cell_type": "markdown",
   "metadata": {},
   "source": [
    "### Draft Lambdas and Step Function Workflow\n",
    "\n",
    "Your operations team uses Step Functions to orchestrate serverless workflows. One of the nice things about Step Functions is that [workflows can call other workflows](https://docs.aws.amazon.com/step-functions/latest/dg/connect-stepfunctions.html), so the team can easily plug your workflow into the broader production architecture for Scones Unlimited.\n",
    "\n",
    "In this next stage you're going to write and deploy three Lambda functions, and then use the Step Functions visual editor to chain them together! Our functions are going to work with a simple data object:\n",
    "\n",
    "```python\n",
    "{\n",
    "    \"inferences\": [], # Output of predictor.predict\n",
    "    \"s3_key\": \"\", # Source data S3 key\n",
    "    \"s3_bucket\": \"\", # Source data S3 bucket\n",
    "    \"image_data\": \"\"  # base64 encoded string containing the image data\n",
    "}\n",
    "```\n",
    "\n",
    "A good test object that you can use for Lambda tests and Step Function executions, throughout the next section, might look like this:\n",
    "\n",
    "```python\n",
    "{\n",
    "  \"image_data\": \"\",\n",
    "  \"s3_bucket\": \"workflows-lambda-bucket-tonybiz\",\n",
    "  \"s3_key\": \"test/bicycle_s_000513.png\"\n",
    "}\n",
    "```\n",
    "\n",
    "Using these fields, your functions can read and write the necessary data to execute your workflow. Let's start with the first function. Your first Lambda function will copy an object from S3, base64 encode it, and then return it to the step function as `image_data` in an event.\n",
    "\n",
    "Go to the Lambda dashboard and create a new Lambda function with a descriptive name like \"serializeImageData\" and select thr 'Python 3.8' runtime. Add the same permissions as the SageMaker role you created earlier. (Reminder: you do this in the Configuration tab under \"Permissions\"). Once you're ready, use the starter code below to craft your Lambda handler:\n",
    "\n",
    "```python\n",
    "import json\n",
    "import boto3\n",
    "import base64\n",
    "\n",
    "s3 = boto3.client('s3')\n",
    "\n",
    "def lambda_handler(event, context):\n",
    "    \"\"\"A function to serialize target data from S3\"\"\"\n",
    "    \n",
    "    # Get the s3 address from the Step Function event input\n",
    "    key = ## TODO: fill in\n",
    "    bucket = ## TODO: fill in\n",
    "    \n",
    "    # Download the data from s3 to /tmp/image.png\n",
    "    ## TODO: fill in\n",
    "    \n",
    "    # We read the data from a file\n",
    "    with open(\"/tmp/image.png\", \"rb\") as f:\n",
    "        image_data = base64.b64encode(f.read())\n",
    "\n",
    "    # Pass the data back to the Step Function\n",
    "    print(\"Event:\", event.keys())\n",
    "    return {\n",
    "        'statusCode': 200,\n",
    "        'body': {\n",
    "            \"image_data\": image_data,\n",
    "            \"s3_bucket\": bucket,\n",
    "            \"s3_key\": key,\n",
    "            \"inferences\": []\n",
    "        }\n",
    "    }\n",
    "```\n",
    "\n",
    "The next function is responsible for the classification part - we're going to take the image output from the previous function, decode it, and then pass inferences back to the the Step Function.\n",
    "\n",
    "Because this Lambda will have runtime dependencies (i.e. the SageMaker SDK) you'll need to package them in your function. *Key reading:* https://docs.aws.amazon.com/lambda/latest/dg/python-package-create.html#python-package-create-with-dependency\n",
    "\n",
    "Create a new Lambda function with the same rights and a descriptive name, then fill in the starter code below for your classifier Lambda.\n",
    "\n",
    "```python\n",
    "import json\n",
    "import sagemaker\n",
    "import base64\n",
    "from sagemaker.serializers import IdentitySerializer\n",
    "\n",
    "# Fill this in with the name of your deployed model\n",
    "ENDPOINT = ## TODO: fill in\n",
    "\n",
    "def lambda_handler(event, context):\n",
    "\n",
    "    # Decode the image data\n",
    "    image = base64.b64decode(## TODO: fill in)\n",
    "\n",
    "    # Instantiate a Predictor\n",
    "    predictor = ## TODO: fill in\n",
    "\n",
    "    # For this model the IdentitySerializer needs to be \"image/png\"\n",
    "    predictor.serializer = IdentitySerializer(\"image/png\")\n",
    "    \n",
    "    # Make a prediction:\n",
    "    inferences = ## TODO: fill in\n",
    "    \n",
    "    # We return the data back to the Step Function    \n",
    "    event[\"inferences\"] = inferences.decode('utf-8')\n",
    "    return {\n",
    "        'statusCode': 200,\n",
    "        'body': json.dumps(event)\n",
    "    }\n",
    "```\n",
    "\n",
    "Finally, we need to filter low-confidence inferences. Define a threshold between 1.00 and 0.000 for your model: what is reasonble for you? If the model predicts at `.70` for it's highest confidence label, do we want to pass that inference along to downstream systems? Make one last Lambda function and tee up the same permissions:\n",
    "\n",
    "```python\n",
    "import json\n",
    "\n",
    "\n",
    "THRESHOLD = .93\n",
    "\n",
    "\n",
    "def lambda_handler(event, context):\n",
    "    \n",
    "    # Grab the inferences from the event\n",
    "    inferences = ## TODO: fill in\n",
    "    \n",
    "    # Check if any values in our inferences are above THRESHOLD\n",
    "    meets_threshold = ## TODO: fill in\n",
    "    \n",
    "    # If our threshold is met, pass our data back out of the\n",
    "    # Step Function, else, end the Step Function with an error\n",
    "    if meets_threshold:\n",
    "        pass\n",
    "    else:\n",
    "        raise(\"THRESHOLD_CONFIDENCE_NOT_MET\")\n",
    "\n",
    "    return {\n",
    "        'statusCode': 200,\n",
    "        'body': json.dumps(event)\n",
    "    }\n",
    "```\n",
    "Once you have tested the lambda functions, save the code for each lambda function in a python script called 'lambda.py'.\n",
    "\n",
    "With your lambdas in place, you can use the Step Functions visual editor to construct a workflow that chains them together. In the Step Functions console you'll have the option to author a Standard step function *Visually*.\n",
    "\n",
    "When the visual editor opens, you'll have many options to add transitions in your workflow. We're going to keep it simple and have just one: to invoke Lambda functions. Add three of them chained together. For each one, you'll be able to select the Lambda functions you just created in the proper order, filter inputs and outputs, and give them descriptive names.\n",
    "\n",
    "Make sure that you:\n",
    "\n",
    "1. Are properly filtering the inputs and outputs of your invokations (e.g. `$.body`)\n",
    "2. Take care to remove the error handling from the last function - it's supposed to \"fail loudly\" for your operations colleagues!\n",
    "\n",
    "Take a screenshot of your working step function in action and export the step function as JSON for your submission package."
   ]
  },
  {
   "cell_type": "markdown",
   "metadata": {},
   "source": [
    "\n",
    "Great! Now you can use the files in `./test` as test files for our workflow. Depending on our threshold, our workflow should reliably pass predictions about images from `./test` on to downstream systems, while erroring out for inferences below our confidence threshold!\n",
    "\n",
    "### Testing and Evaluation\n",
    "\n",
    "Do several step function invokations using data from the `./test` folder. This process should give you confidence that the workflow both *succeeds* AND *fails* as expected. In addition, SageMaker Model Monitor will generate recordings of your data and inferences which we can visualize.\n",
    "\n",
    "Here's a function that can help you generate test inputs for your invokations:"
   ]
  },
  {
   "cell_type": "code",
   "execution_count": 27,
   "metadata": {},
   "outputs": [
    {
     "data": {
      "text/plain": [
       "'{\"image_data\": \"\", \"s3_bucket\": \"workflows-bucket-tonybiz\", \"s3_key\": \"test/cycle_s_000010.png\"}'"
      ]
     },
     "execution_count": 27,
     "metadata": {},
     "output_type": "execute_result"
    }
   ],
   "source": [
    "import random\n",
    "import boto3\n",
    "import json\n",
    "\n",
    "\n",
    "def generate_test_case():\n",
    "    # Setup s3 in boto3\n",
    "    s3 = boto3.resource('s3')\n",
    "    \n",
    "    # Randomly pick from sfn or test folders in our bucket\n",
    "    objects = s3.Bucket(bucket).objects.filter(Prefix=\"test/\")\n",
    "    \n",
    "    # Grab any random object key from that folder!\n",
    "    obj = random.choice([x.key for x in objects])\n",
    "    \n",
    "    return json.dumps({\n",
    "        \"image_data\": \"\",\n",
    "        \"s3_bucket\": bucket,\n",
    "        \"s3_key\": obj\n",
    "    })\n",
    "generate_test_case()"
   ]
  },
  {
   "cell_type": "markdown",
   "metadata": {},
   "source": [
    "In the Step Function dashboard for your new function, you can create new executions and copy in the generated test cases. Do several executions so that you can generate data you can evaluate and visualize.\n",
    "\n",
    "Once you've done several executions, let's visualize the record of our inferences. Pull in the JSONLines data from your inferences like so:"
   ]
  },
  {
   "cell_type": "code",
   "execution_count": 28,
   "metadata": {},
   "outputs": [
    {
     "data": {
      "text/plain": [
       "['captured_data/image-classification-2024-10-28-20-25-29-037/AllTraffic/2024/10/28/20/33-19-364-c8d0fcb9-4119-4866-9b70-7f19ec26514b.jsonl',\n",
       " 'captured_data/image-classification-2024-10-28-20-25-29-037/AllTraffic/2024/10/28/21/50-33-919-59843191-6cd6-4bfb-aec4-d224e17cc1af.jsonl',\n",
       " 'captured_data/image-classification-2024-10-28-20-25-29-037/AllTraffic/2024/10/28/23/27-34-351-971c675b-f755-4db1-8049-cceb785e99a2.jsonl',\n",
       " 'captured_data/image-classification-2024-10-28-20-25-29-037/AllTraffic/2024/10/28/23/32-59-844-53ef1b74-208e-4b78-ae71-f8bf5559c2d5.jsonl',\n",
       " 'captured_data/image-classification-2024-10-28-20-25-29-037/AllTraffic/2024/10/28/23/37-01-133-b7c722e1-6a40-403f-862f-b932d6f4c7f2.jsonl',\n",
       " 'captured_data/image-classification-2024-10-28-20-25-29-037/AllTraffic/2024/10/28/23/50-28-145-2c39fe75-1c47-4671-911a-6ec6cdc7d959.jsonl',\n",
       " 'captured_data/image-classification-2024-10-28-20-25-29-037/AllTraffic/2024/10/28/23/52-07-843-e0082cf2-aa7e-41a4-929c-df02cb8413c5.jsonl']"
      ]
     },
     "execution_count": 28,
     "metadata": {},
     "output_type": "execute_result"
    }
   ],
   "source": [
    "from sagemaker.s3 import S3Downloader\n",
    "\n",
    "# In S3 your data will be saved to a datetime-aware path\n",
    "# Find a path related to a datetime you're interested in\n",
    "data_path = f\"s3://{bucket}/data_capture\"\n",
    "\n",
    "S3Downloader.download(data_path, \"captured_data\")\n",
    "\n",
    "# Feel free to repeat this multiple times and pull in more data"
   ]
  },
  {
   "cell_type": "markdown",
   "metadata": {},
   "source": [
    "The data are in JSONLines format, where multiple valid JSON objects are stacked on top of eachother in a single `jsonl` file. We'll import an open-source library, `jsonlines` that was purpose built for parsing this format."
   ]
  },
  {
   "cell_type": "code",
   "execution_count": 29,
   "metadata": {},
   "outputs": [
    {
     "name": "stdout",
     "output_type": "stream",
     "text": [
      "Collecting jsonlines\n",
      "  Downloading jsonlines-4.0.0-py3-none-any.whl.metadata (1.6 kB)\n",
      "Requirement already satisfied: attrs>=19.2.0 in /opt/conda/lib/python3.11/site-packages (from jsonlines) (23.2.0)\n",
      "Downloading jsonlines-4.0.0-py3-none-any.whl (8.7 kB)\n",
      "Installing collected packages: jsonlines\n",
      "Successfully installed jsonlines-4.0.0\n"
     ]
    }
   ],
   "source": [
    "!pip install jsonlines\n",
    "import jsonlines"
   ]
  },
  {
   "cell_type": "markdown",
   "metadata": {},
   "source": [
    "Now we can extract the data from each of the source files:"
   ]
  },
  {
   "cell_type": "code",
   "execution_count": 35,
   "metadata": {},
   "outputs": [],
   "source": [
    "import os\n",
    "\n",
    "# # List the file names we downloaded\n",
    "# file_handles = os.listdir(\"./captured_data\")\n",
    "\n",
    "# # Dump all the data into an array\n",
    "# json_data = []\n",
    "# for jsonl in file_handles:\n",
    "#     with jsonlines.open(f\"./captured_data/{jsonl}\") as f:\n",
    "#         json_data.append(f.read())\n",
    "\n",
    "# Function to recursively find all jsonl files\n",
    "def find_jsonl_files(directory):\n",
    "    jsonl_files = []\n",
    "    for root, dirs, files in os.walk(directory):\n",
    "        for file in files:\n",
    "            if file.endswith('.jsonl'):\n",
    "                jsonl_files.append(os.path.join(root, file))\n",
    "    return jsonl_files\n",
    "\n",
    "# Get all jsonl files and read their data\n",
    "json_data = []\n",
    "for jsonl_file in find_jsonl_files(\"./captured_data\"):\n",
    "    with jsonlines.open(jsonl_file) as f:\n",
    "        for line in f:\n",
    "            json_data.append(line)"
   ]
  },
  {
   "cell_type": "markdown",
   "metadata": {},
   "source": [
    "The data should now be a list of dictionaries, with significant nesting. We'll give you an example of some code that grabs data out of the objects and visualizes it:"
   ]
  },
  {
   "cell_type": "code",
   "execution_count": 40,
   "metadata": {},
   "outputs": [
    {
     "name": "stdout",
     "output_type": "stream",
     "text": [
      "Inference: [0.9399322867393494, 0.06006772443652153]\n",
      "Timestamp: 2024-10-28 20:33:19+00:00\n"
     ]
    }
   ],
   "source": [
    "# # Define how we'll get our data\n",
    "# def simple_getter(obj):\n",
    "#     inferences = obj[\"captureData\"][\"endpointOutput\"][\"data\"]\n",
    "#     timestamp = obj[\"eventMetadata\"][\"inferenceTime\"]\n",
    "#     return json.loads(inferences), timestamp\n",
    "\n",
    "# simple_getter(json_data[0])\n",
    "\n",
    "from datetime import datetime\n",
    "\n",
    "# Define how we'll get our data\n",
    "def simple_getter(obj):\n",
    "    inferences = obj[\"captureData\"][\"endpointOutput\"][\"data\"]\n",
    "    timestamp_str = obj[\"eventMetadata\"][\"inferenceTime\"]\n",
    "    # Convert ISO format timestamp string to datetime object\n",
    "    timestamp = datetime.fromisoformat(timestamp_str.replace('Z', '+00:00'))\n",
    "    return json.loads(inferences), timestamp\n",
    "\n",
    "# Test the function with first record\n",
    "first_inference, first_timestamp = simple_getter(json_data[0])\n",
    "print(f\"Inference: {first_inference}\")\n",
    "print(f\"Timestamp: {first_timestamp}\")"
   ]
  },
  {
   "cell_type": "markdown",
   "metadata": {},
   "source": [
    "Finally, here's an example of a visualization you can build with this data. In this last part, you will take some time and build your own - the captured data has the input images, the resulting inferences, and the timestamps."
   ]
  },
  {
   "cell_type": "code",
   "execution_count": 47,
   "metadata": {},
   "outputs": [
    {
     "data": {
      "image/png": "[encoded data removed]",
      "text/plain": [
       "<Figure size 640x480 with 1 Axes>"
      ]
     },
     "metadata": {},
     "output_type": "display_data"
    }
   ],
   "source": [
    "# Populate the data for the x and y axis\n",
    "x = []\n",
    "y = []\n",
    "for obj in json_data:\n",
    "    inference, timestamp = simple_getter(obj)\n",
    "    \n",
    "    y.append(max(inference))\n",
    "    x.append(timestamp)\n",
    "\n",
    "# Todo: here is an visualization example, take some time to build another visual that helps monitor the result\n",
    "# Plot the data\n",
    "plt.scatter(x, y, c=['r' if k<.90 else 'b' for k in y ])\n",
    "plt.axhline(y=0.90, color='g', linestyle='--')\n",
    "plt.ylim(bottom=.78)\n",
    "\n",
    "# Add labels\n",
    "plt.ylabel(\"Confidence\")\n",
    "plt.suptitle(\"Observed Recent Inferences\", size=14)\n",
    "plt.title(\"Pictured with confidence threshold for production use\", size=10)\n",
    "\n",
    "# Give it some pizzaz!\n",
    "plt.style.use(\"Solarize_Light2\")\n",
    "plt.gcf().autofmt_xdate()\n",
    "\n",
    "# # First extract the data\n",
    "# x = []\n",
    "# y = []\n",
    "# for obj in json_data:\n",
    "#     inference, timestamp = simple_getter(obj)\n",
    "#     y.append(max(inference))\n",
    "#     x.append(timestamp)\n",
    "\n",
    "# # Set style to a built-in matplotlib style\n",
    "# plt.style.use('ggplot')\n",
    "\n",
    "# # Create visualization\n",
    "# fig, (ax1, ax2) = plt.subplots(2, 1, figsize=(12, 10))\n",
    "\n",
    "# # 1. Confidence Distribution Histogram\n",
    "# confidence_values = y\n",
    "# ax1.hist(confidence_values, bins=20, color='skyblue', edgecolor='black')\n",
    "# ax1.axvline(x=0.94, color='red', linestyle='--', label='Threshold (0.94)')\n",
    "# ax1.set_xlabel('Confidence Score')\n",
    "# ax1.set_ylabel('Frequency')\n",
    "# ax1.set_title('Distribution of Model Confidence Scores')\n",
    "# ax1.legend()\n",
    "\n",
    "# # 2. Time Series with Moving Average\n",
    "# timestamps = pd.to_datetime(x)\n",
    "# confidence_series = pd.Series(y, index=timestamps)\n",
    "# rolling_mean = confidence_series.rolling(window=5).mean()\n",
    "\n",
    "# ax2.plot(timestamps, y, 'o-', alpha=0.5, label='Individual Predictions', color='blue')\n",
    "# ax2.plot(timestamps, rolling_mean, 'r-', linewidth=2, label='Moving Average (window=5)')\n",
    "# ax2.axhline(y=0.94, color='red', linestyle='--', label='Threshold')\n",
    "# ax2.set_xlabel('Timestamp')\n",
    "# ax2.set_ylabel('Confidence Score')\n",
    "# ax2.set_title('Confidence Scores Over Time with Moving Average')\n",
    "# ax2.legend()\n",
    "\n",
    "# # Rotate x-axis labels for better readability\n",
    "# plt.setp(ax2.xaxis.get_majorticklabels(), rotation=45)\n",
    "\n",
    "# # Adjust layout to prevent overlap\n",
    "# plt.tight_layout()\n",
    "\n",
    "# # Add a main title\n",
    "# fig.suptitle('Model Inference Analysis Dashboard', fontsize=16, y=1.02)"
   ]
  },
  {
   "cell_type": "markdown",
   "metadata": {},
   "source": [
    "### Todo: build your own visualization\n"
   ]
  },
  {
   "cell_type": "code",
   "execution_count": 51,
   "metadata": {},
   "outputs": [
    {
     "data": {
      "image/png": "[encoded data removed]",
      "text/plain": [
       "<Figure size 1000x800 with 2 Axes>"
      ]
     },
     "metadata": {},
     "output_type": "display_data"
    }
   ],
   "source": [
    "# Create a figure with two subplots\n",
    "fig, (ax1, ax2) = plt.subplots(2, 1, figsize=(10, 8), height_ratios=[2, 1])\n",
    "\n",
    "# Extract data\n",
    "x = []\n",
    "y = []\n",
    "for obj in json_data:\n",
    "    inference, timestamp = simple_getter(obj)\n",
    "    y.append(max(inference))\n",
    "    x.append(timestamp)\n",
    "\n",
    "# Top subplot: Confidence scores over time\n",
    "ax1.plot(x, y, 'o-', color='#2E86C1', alpha=0.6, markersize=6)\n",
    "ax1.axhline(y=0.90, color='#E74C3C', linestyle='--', label='Threshold (0.90)')\n",
    "ax1.set_ylim(0.85, 1.0)\n",
    "ax1.set_ylabel('Confidence Score')\n",
    "ax1.set_title('Model Confidence Over Time')\n",
    "ax1.grid(True, linestyle=':', alpha=0.6)\n",
    "ax1.legend()\n",
    "\n",
    "# Bottom subplot: Histogram of confidence scores\n",
    "ax2.hist(y, bins=20, color='#2E86C1', edgecolor='white', alpha=0.7)\n",
    "ax2.axvline(x=0.90, color='#E74C3C', linestyle='--', label='Threshold')\n",
    "ax2.set_xlabel('Confidence Score')\n",
    "ax2.set_ylabel('Frequency')\n",
    "ax2.set_title('Distribution of Confidence Scores')\n",
    "ax2.grid(True, linestyle=':', alpha=0.6)\n",
    "ax2.legend()\n",
    "\n",
    "# Adjust layout\n",
    "plt.tight_layout()\n",
    "plt.gcf().autofmt_xdate()\n",
    "\n",
    "# Add an overall title\n",
    "fig.suptitle('Model Inference Analysis', y=1.02, size=14)\n",
    "\n",
    "# Use a clean style\n",
    "plt.style.use('Solarize_Light2')"
   ]
  },
  {
   "cell_type": "markdown",
   "metadata": {},
   "source": [
    "### Congratulations!\n",
    "\n",
    "You've reached the end of the project. In this project you created an event-drivent ML workflow that can be incorporated into the Scones Unlimited production architecture. You used the SageMaker Estimator API to deploy your SageMaker Model and Endpoint, and you used AWS Lambda and Step Functions to orchestrate your ML workflow. Using SageMaker Model Monitor, you instrumented and observed your Endpoint, and at the end of the project you built a visualization to help stakeholders understand the performance of the Endpoint over time. If you're up for it, you can even go further with these stretch goals:\n",
    "\n",
    "* Extend your workflow to incorporate more classes: the CIFAR dataset includes other vehicles that Scones Unlimited can identify with this model.\n",
    "* Modify your event driven workflow: can you rewrite your Lambda functions so that the workflow can process multiple image inputs in parallel? Can the Step Function \"fan out\" to accomodate this new workflow?\n",
    "* Consider the test data generator we provided for you. Can we use it to create a \"dummy data\" generator, to simulate a continuous stream of input data? Or a big paralell load of data?\n",
    "* What if we want to get notified every time our step function errors out? Can we use the Step Functions visual editor in conjunction with a service like SNS to accomplish this? Try it out!\n",
    "\n",
    "\n"
   ]
  }
 ],
 "metadata": {
  "instance_type": "ml.t3.medium",
  "kernelspec": {
   "display_name": "base",
   "language": "python",
   "name": "python3"
  },
  "language_info": {
   "codemirror_mode": {
    "name": "ipython",
    "version": 3
   },
   "file_extension": ".py",
   "mimetype": "text/x-python",
   "name": "python",
   "nbconvert_exporter": "python",
   "pygments_lexer": "ipython3",
   "version": "3.11.9"
  }
 },
 "nbformat": 4,
 "nbformat_minor": 4
}
